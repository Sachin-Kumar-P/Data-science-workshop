{
  "nbformat": 4,
  "nbformat_minor": 0,
  "metadata": {
    "colab": {
      "name": "Untitled1.ipynb",
      "provenance": [],
      "authorship_tag": "ABX9TyNGXmV69OzK/Ppk10mUZY37",
      "include_colab_link": true
    },
    "kernelspec": {
      "name": "python3",
      "display_name": "Python 3"
    }
  },
  "cells": [
    {
      "cell_type": "markdown",
      "metadata": {
        "id": "view-in-github",
        "colab_type": "text"
      },
      "source": [
        "<a href=\"https://colab.research.google.com/github/Sachin-Kumar-P/Data-science-workshop/blob/main/Untitled1.ipynb\" target=\"_parent\"><img src=\"https://colab.research.google.com/assets/colab-badge.svg\" alt=\"Open In Colab\"/></a>"
      ]
    },
    {
      "cell_type": "code",
      "metadata": {
        "id": "59mVFd2qrWji",
        "outputId": "2bd00457-85b8-4108-a5ff-4643644bfe41",
        "colab": {
          "base_uri": "https://localhost:8080/"
        }
      },
      "source": [
        "s = [12,33,23,36,42]\n",
        "for i in s:\n",
        "  if i%3==0:\n",
        "    print(i,\"is divible by 3\")\n",
        "\n"
      ],
      "execution_count": 2,
      "outputs": [
        {
          "output_type": "stream",
          "text": [
            "12 is divible by 3\n",
            "33 is divible by 3\n",
            "36 is divible by 3\n",
            "42 is divible by 3\n"
          ],
          "name": "stdout"
        }
      ]
    },
    {
      "cell_type": "code",
      "metadata": {
        "id": "oYKeAzuyr3Tx"
      },
      "source": [
        ""
      ],
      "execution_count": null,
      "outputs": []
    }
  ]
}